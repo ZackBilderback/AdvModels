{
 "cells": [
  {
   "cell_type": "markdown",
   "metadata": {},
   "source": [
    "# <p style=\"text-align: center;\">MIS 382N: Advanced Predictive Modeling</p>\n",
    "# <p style=\"text-align: center;\">Assignment 4</p>\n",
    "## <p style=\"text-align: center;\">Total points: 50 </p>\n",
    "## <p style=\"text-align: center;\">Due: Mon, November 14</p>\n",
    "\n",
    "\n",
    "\n",
    "Your homework should be written in a **Jupyter notebook**. Please submit **only one** ipynb file from each group, and include the names of all the group members. Also, please make sure your code runs and the graphics (and anything else) are displayed in your notebook before submitting."
   ]
  },
  {
   "cell_type": "markdown",
   "metadata": {},
   "source": [
    "# Problem 1 - MNIST (15 pts)\n",
    "In this question you classify hand-written digits. We want to use MNIST data set and try Multi-layer Perceptron (MLP) classifier using sklearn package in Python. In order to simplify the problem, we classify digits into 8 classes (digits 0,1,2,...7) and ignore records for digits 8 and 9.  Use the code below to access the data set and extract data with labels 0 to 7, and split the data set into train set and test set.\n",
    "\n",
    "1. Fit a Multilayer Perceptron Classifier using the standard options on sklearn's MLP on train data. Report the root MSE for both train and test data. (5 pts)\n",
    "\n",
    "    Use these parameters for your model: \n",
    "                    {hidden_layer_sizes=(50,), max_iter=10, alpha=1e-4,\n",
    "                    solver='sgd', verbose=10, tol=1e-4, random_state=42,\n",
    "                    learning_rate_init=.1}\n",
    "                    \n",
    "2. To find better parameters for the MLP Classifier model, try an exhaustive search over all parameters of the data. Use sklearn's GridSearchCV to find the best subset of parameters from the set:\n",
    "                    { alpha = [0.1,0.01,0.001], activation : ['logistic', 'relu'] }\n",
    "    which parameters resulted in a more accurate model? Can you explain why? (5 pts)\n",
    "\n",
    "3. Select 5 misclassified images and display them. (5 pts)"
   ]
  },
  {
   "cell_type": "code",
   "execution_count": 1,
   "metadata": {
    "collapsed": false
   },
   "outputs": [
    {
     "ename": "ImportError",
     "evalue": "No module named model_selection",
     "output_type": "error",
     "traceback": [
      "\u001b[1;31m---------------------------------------------------------------------------\u001b[0m",
      "\u001b[1;31mImportError\u001b[0m                               Traceback (most recent call last)",
      "\u001b[1;32m<ipython-input-1-ebbae3e59609>\u001b[0m in \u001b[0;36m<module>\u001b[1;34m()\u001b[0m\n\u001b[0;32m      1\u001b[0m \u001b[1;32mimport\u001b[0m \u001b[0mmatplotlib\u001b[0m\u001b[1;33m.\u001b[0m\u001b[0mpyplot\u001b[0m \u001b[1;32mas\u001b[0m \u001b[0mplt\u001b[0m\u001b[1;33m\u001b[0m\u001b[0m\n\u001b[0;32m      2\u001b[0m \u001b[1;32mfrom\u001b[0m \u001b[0msklearn\u001b[0m\u001b[1;33m.\u001b[0m\u001b[0mdatasets\u001b[0m \u001b[1;32mimport\u001b[0m \u001b[0mfetch_mldata\u001b[0m\u001b[1;33m\u001b[0m\u001b[0m\n\u001b[1;32m----> 3\u001b[1;33m \u001b[1;32mfrom\u001b[0m \u001b[0msklearn\u001b[0m\u001b[1;33m.\u001b[0m\u001b[0mmodel_selection\u001b[0m \u001b[1;32mimport\u001b[0m \u001b[1;33m(\u001b[0m\u001b[0mtrain_test_split\u001b[0m\u001b[1;33m,\u001b[0m\u001b[0mKFold\u001b[0m\u001b[1;33m)\u001b[0m\u001b[1;33m\u001b[0m\u001b[0m\n\u001b[0m\u001b[0;32m      4\u001b[0m \u001b[1;32mfrom\u001b[0m \u001b[0msklearn\u001b[0m\u001b[1;33m.\u001b[0m\u001b[0mneural_network\u001b[0m \u001b[1;32mimport\u001b[0m \u001b[0mMLPClassifier\u001b[0m\u001b[1;33m\u001b[0m\u001b[0m\n\u001b[0;32m      5\u001b[0m \u001b[1;33m\u001b[0m\u001b[0m\n",
      "\u001b[1;31mImportError\u001b[0m: No module named model_selection"
     ]
    }
   ],
   "source": [
    "import matplotlib.pyplot as plt\n",
    "from sklearn.datasets import fetch_mldata\n",
    "from sklearn.model_selection import (train_test_split,KFold)\n",
    "from sklearn.neural_network import MLPClassifier\n",
    "\n",
    "mnist = fetch_mldata(\"MNIST original\")\n",
    "# rescale the data, use the traditional train/test split\n",
    "X = (mnist.data / 255.)[:48200]\n",
    "y = mnist.target[:48200]\n",
    "\n",
    "X_train, X_test, y_train, y_test = train_test_split(X,y,test_size = 0.1, random_state=42)"
   ]
  },
  {
   "cell_type": "markdown",
   "metadata": {},
   "source": [
    "## Part 1"
   ]
  },
  {
   "cell_type": "code",
   "execution_count": null,
   "metadata": {
    "collapsed": false
   },
   "outputs": [],
   "source": [
    "import pandas as pd\n",
    "import numpy as np\n",
    "from sklearn.metrics import mean_squared_error\n",
    "from sklearn.preprocessing import StandardScaler\n",
    "from sklearn.metrics import fbeta_score, make_scorer\n",
    "import matplotlib.pyplot as plt\n",
    "%matplotlib inline\n",
    "\n",
    "#first we scale our x variables\n",
    "X_scaler = StandardScaler()\n",
    "X_train = X_scaler.fit_transform(X_train)\n",
    "X_test = X_scaler.transform(X_test)\n",
    "MLP = MLPClassifier(hidden_layer_sizes=(50,), max_iter=10, alpha=1e-4, solver='sgd', \n",
    "                    verbose=10, tol=1e-4, random_state=42, learning_rate_init=.1)\n",
    "mse = make_scorer(mean_squared_error)"
   ]
  },
  {
   "cell_type": "code",
   "execution_count": null,
   "metadata": {
    "collapsed": false
   },
   "outputs": [],
   "source": [
    "#getting training RMSe\n",
    "trainmodel = MLP.fit(X_train, y_train)\n",
    "Ytrain_pred = trainmodel.predict(X_train)\n",
    "train_score = mean_squared_error(y_train, Ytrain_pred)\n",
    "print 'RMSE on training data:', np.sqrt(train_score)\n",
    "\n",
    "#getting testing RMSE\n",
    "testmodel = MLP.fit(X_train, y_train)\n",
    "Ytest_pred = testmodel.predict(X_test)\n",
    "test_score = mean_squared_error(y_test, Ytest_pred)\n",
    "print 'RMSE on test data:', np.sqrt(test_score)"
   ]
  },
  {
   "cell_type": "markdown",
   "metadata": {},
   "source": [
    "## Part 2"
   ]
  },
  {
   "cell_type": "code",
   "execution_count": null,
   "metadata": {
    "collapsed": false
   },
   "outputs": [],
   "source": [
    "from sklearn import grid_search\n",
    "parameters = { 'alpha' : [0.1,0.01,0.001], 'activation' : ['logistic', 'relu'] }\n",
    "clf = grid_search.GridSearchCV(MLP, parameters)"
   ]
  },
  {
   "cell_type": "code",
   "execution_count": null,
   "metadata": {
    "collapsed": false
   },
   "outputs": [],
   "source": [
    "clf.fit(X_train, y_train)"
   ]
  },
  {
   "cell_type": "code",
   "execution_count": null,
   "metadata": {
    "collapsed": false
   },
   "outputs": [],
   "source": [
    "print \"{}:{}\".format(\"Best parameters\", clf.best_params_)"
   ]
  },
  {
   "cell_type": "markdown",
   "metadata": {
    "collapsed": true
   },
   "source": [
    "## Need to finish\n",
    "The best parameters are (activation='relu', alpha=0.1). "
   ]
  },
  {
   "cell_type": "markdown",
   "metadata": {},
   "source": [
    "## Part 3"
   ]
  },
  {
   "cell_type": "code",
   "execution_count": null,
   "metadata": {
    "collapsed": false
   },
   "outputs": [],
   "source": [
    "images_and_predictions = list(zip(mnist.images[X_train], Ytrain_pred))\n",
    "for index, (image, prediction) in enumerate(images_and_predictions[:4]):\n",
    "    plt.subplot(2, 4, index + 5)\n",
    "    plt.axis('off')\n",
    "    plt.imshow(image, cmap=plt.cm.gray_r, interpolation='nearest')\n",
    "    plt.title('Prediction: %i' % prediction)\n",
    "\n",
    "plt.show()"
   ]
  },
  {
   "cell_type": "markdown",
   "metadata": {
    "collapsed": true
   },
   "source": [
    "# Question 2: Regression Trees (10 points)\n",
    "\n",
    "In this question, we will be exploring the application of regression tree (RT) using sklearn package in Python. You will be using the same Hitters.csv dataset (available on Canvas) used in HW2 Q5 to predict a baseball player’s Salary using all the 16 performance variables. Use a random state of 42 and a test size of 1/3 to split the data into training and test.\n",
    "\n",
    "1. Build a regression using [DecisionTreeRegressor](http://scikit-learn.org/stable/modules/generated/sklearn.tree.DecisionTreeRegressor.html) with max_depth = 5. Report the mean squared errors on both training and test datasets. (4)\n",
    "2. Repeat Part-1 with max_depth = 2. (4)\n",
    "3. Briefly explain what you observe from these MSE values obtained by using maximum tree depths 5 and 2? Which tree is better and why? (2)"
   ]
  },
  {
   "cell_type": "code",
   "execution_count": null,
   "metadata": {
    "collapsed": false
   },
   "outputs": [],
   "source": [
    "import numpy as np\n",
    "import pandas as pd\n",
    "import sklearn\n",
    "from sklearn.cross_validation import train_test_split\n",
    "from sklearn.tree import DecisionTreeRegressor\n",
    "from sklearn.metrics import mean_squared_error"
   ]
  },
  {
   "cell_type": "code",
   "execution_count": null,
   "metadata": {
    "collapsed": true
   },
   "outputs": [],
   "source": [
    "hitters = pd.read_csv(\"hitters.csv\")\n",
    "target = hitters['Salary']\n",
    "del hitters['Salary']\n",
    "X_train, X_test, y_train, y_test = train_test_split(hitters, target, test_size=0.333, random_state=42)"
   ]
  },
  {
   "cell_type": "markdown",
   "metadata": {},
   "source": [
    "### Part 1"
   ]
  },
  {
   "cell_type": "code",
   "execution_count": null,
   "metadata": {
    "collapsed": false
   },
   "outputs": [],
   "source": [
    "DTR = DecisionTreeRegressor(max_depth=5)\n",
    "model = DTR.fit(X_train, y_train)"
   ]
  },
  {
   "cell_type": "code",
   "execution_count": null,
   "metadata": {
    "collapsed": false
   },
   "outputs": [],
   "source": [
    "#training data\n",
    "Ytrain_pred = model.predict(X_train)\n",
    "train_MSE = mean_squared_error(y_train, Ytrain_pred)\n",
    "print \"Training data MSE:\", train_MSE\n",
    "\n",
    "#test data\n",
    "Ypred_test = model.predict(X_test)\n",
    "test_MSE = mean_squared_error(y_test, Ypred_test)\n",
    "print \"Test data MSE:\", test_MSE"
   ]
  },
  {
   "cell_type": "markdown",
   "metadata": {},
   "source": [
    "### Part 2"
   ]
  },
  {
   "cell_type": "code",
   "execution_count": null,
   "metadata": {
    "collapsed": true
   },
   "outputs": [],
   "source": [
    "DTR = DecisionTreeRegressor(max_depth=2)\n",
    "model = DTR.fit(X_train, y_train)"
   ]
  },
  {
   "cell_type": "code",
   "execution_count": null,
   "metadata": {
    "collapsed": false
   },
   "outputs": [],
   "source": [
    "#training data\n",
    "Ytrain_pred = model.predict(X_train)\n",
    "train_MSE = mean_squared_error(y_train, Ytrain_pred)\n",
    "print \"Training data MSE:\", train_MSE\n",
    "\n",
    "#test data\n",
    "Ypred_test = model.predict(X_test)\n",
    "test_MSE = mean_squared_error(y_test, Ypred_test)\n",
    "print \"Test data MSE:\", test_MSE"
   ]
  },
  {
   "cell_type": "markdown",
   "metadata": {},
   "source": [
    "### Part 3"
   ]
  },
  {
   "cell_type": "markdown",
   "metadata": {},
   "source": []
  },
  {
   "cell_type": "markdown",
   "metadata": {
    "collapsed": true
   },
   "source": [
    "# Question 3 - Support Vector Regression vs. Linear Regression (10pts)\n",
    "Download datasets 'summer_gpa_test.csv' and 'summer_gpa_train.csv' from Canvas. With this toy dataset, we want to predict GPA in Summer 2016 for students using 5 different features. So, target variable will be 'GPA_summer2016' in this problem."
   ]
  },
  {
   "cell_type": "code",
   "execution_count": 42,
   "metadata": {
    "collapsed": true
   },
   "outputs": [],
   "source": [
    "import pandas as pd\n",
    "import numpy as np\n",
    "from sklearn.svm import SVR\n",
    "from sklearn.metrics import mean_squared_error\n",
    "from sklearn.linear_model import LinearRegression\n",
    "%matplotlib inline\n",
    "\n",
    "d_train = pd.read_csv('summer_gpa_train.csv',index_col='student')\n",
    "d_test = pd.read_csv('summer_gpa_test.csv',index_col='student')\n",
    "\n",
    "y_train = d_train['GPA_summer2016']\n",
    "y_test = d_test['GPA_summer2016']\n",
    "x_train = d_train.drop('GPA_summer2016',axis=1)\n",
    "x_test = d_test.drop('GPA_summer2016',axis=1)"
   ]
  },
  {
   "cell_type": "markdown",
   "metadata": {},
   "source": [
    "$\\textbf{1 :}$ Fit a support vector regression using the default options on [sklearn's SVR](http://scikit-learn.org/stable/modules/generated/sklearn.svm.SVR.html) on training data. Note that the default kernel is \"rbf\".  Report the root MSE for both train and test data. (2)"
   ]
  },
  {
   "cell_type": "code",
   "execution_count": 31,
   "metadata": {
    "collapsed": false
   },
   "outputs": [
    {
     "name": "stdout",
     "output_type": "stream",
     "text": [
      "SVR default RBF kernel\n",
      "In Sample RMSE:      0.0305211797748\n",
      "Out of Sample RMSE:  0.302134639673\n"
     ]
    }
   ],
   "source": [
    "SVR_obj = SVR()\n",
    "SVR_obj.fit(x_train.as_matrix(),y_train.as_matrix())\n",
    "\n",
    "print \"SVR default RBF kernel\"\n",
    "print \"In Sample RMSE:     \", mean_squared_error(SVR_obj.predict(x_train.as_matrix()),y_train.as_matrix())\n",
    "print \"Out of Sample RMSE: \", mean_squared_error(SVR_obj.predict(x_test.as_matrix()),y_test.as_matrix())"
   ]
  },
  {
   "cell_type": "markdown",
   "metadata": {},
   "source": [
    "$\\textbf{2 :}$ Fit SVR with 'linear' kernel and Linear Regression (for other options, use default parameter settings). Report RMSE of prediction on train and test data for the two methods. (3)"
   ]
  },
  {
   "cell_type": "code",
   "execution_count": 30,
   "metadata": {
    "collapsed": false
   },
   "outputs": [
    {
     "name": "stdout",
     "output_type": "stream",
     "text": [
      "SVR linear kernel\n",
      "In Sample RMSE:      0.228453141443\n",
      "Out of Sample RMSE:  0.0538091722875\n",
      "\n",
      "Linear Regression\n",
      "In Sample RMSE:      0.209819540154\n",
      "Out of Sample RMSE:  0.067629714708\n"
     ]
    }
   ],
   "source": [
    "SVR_linear = SVR(kernel=\"linear\")\n",
    "SVR_linear.fit(x_train.as_matrix(),y_train.as_matrix())\n",
    "\n",
    "print \"SVR linear kernel\"\n",
    "print \"In Sample RMSE:     \", mean_squared_error(SVR_linear.predict(x_train.as_matrix()),y_train.as_matrix())\n",
    "print \"Out of Sample RMSE: \", mean_squared_error(SVR_linear.predict(x_test.as_matrix()),y_test.as_matrix())\n",
    "\n",
    "LinReg = LinearRegression()\n",
    "LinReg.fit(x_train.as_matrix(),y_train.as_matrix())\n",
    "\n",
    "print \"\\nLinear Regression\"\n",
    "print \"In Sample RMSE:     \", mean_squared_error(LinReg.predict(x_train.as_matrix()),y_train.as_matrix())\n",
    "print \"Out of Sample RMSE: \", mean_squared_error(LinReg.predict(x_test.as_matrix()),y_test.as_matrix())"
   ]
  },
  {
   "cell_type": "markdown",
   "metadata": {},
   "source": [
    "$\\textbf{3 :}$ Now, compare the results of three different methods, then provide a possible reason for SVR with RBF kernel not working well on test set. (1)"
   ]
  },
  {
   "cell_type": "markdown",
   "metadata": {},
   "source": [
    "SVR with RBF kernel has a low in sample RMSE and a relatively high out of sample RMSE.\n",
    "\n",
    "By comparison, SVR with a linear kernel and linear regression both have relatively relatively high in sample RMSEs and low out of sample RMSEs.\n",
    "\n",
    "The RBF kernel likely overfits the data, while the SVR linear kernel and the linear regression model have less variance."
   ]
  },
  {
   "cell_type": "markdown",
   "metadata": {},
   "source": [
    "$\\textbf{4 :}$ Provide simple residual plots on Train and Test set for all three methods. Specifically, submit a scatter plot wherein y-axis shows the residuals and x-axis the predicted values. What can you learn about the effect of outliers on different models from this problem? (4)"
   ]
  },
  {
   "cell_type": "code",
   "execution_count": 85,
   "metadata": {
    "collapsed": false
   },
   "outputs": [
    {
     "data": {
      "text/plain": [
       "<matplotlib.text.Text at 0x131c9470>"
      ]
     },
     "execution_count": 85,
     "metadata": {},
     "output_type": "execute_result"
    },
    {
     "data": {
      "image/png": "[encoded data removed]",
      "text/plain": [
       "<matplotlib.figure.Figure at 0xf13c9b0>"
      ]
     },
     "metadata": {},
     "output_type": "display_data"
    },
    {
     "data": {
      "image/png": "[encoded data removed]",
      "text/plain": [
       "<matplotlib.figure.Figure at 0xd073be0>"
      ]
     },
     "metadata": {},
     "output_type": "display_data"
    },
    {
     "data": {
      "image/png": "[encoded data removed]",
      "text/plain": [
       "<matplotlib.figure.Figure at 0x1121a940>"
      ]
     },
     "metadata": {},
     "output_type": "display_data"
    },
    {
     "data": {
      "image/png": "[encoded data removed]",
      "text/plain": [
       "<matplotlib.figure.Figure at 0x10464400>"
      ]
     },
     "metadata": {},
     "output_type": "display_data"
    },
    {
     "data": {
      "image/png": "[encoded data removed]",
      "text/plain": [
       "<matplotlib.figure.Figure at 0x1147e2b0>"
      ]
     },
     "metadata": {},
     "output_type": "display_data"
    },
    {
     "data": {
      "image/png": "[encoded data removed]",
      "text/plain": [
       "<matplotlib.figure.Figure at 0x11f7ee80>"
      ]
     },
     "metadata": {},
     "output_type": "display_data"
    }
   ],
   "source": [
    "import pandas as pd\n",
    "import seaborn as sns\n",
    "\n",
    "import matplotlib.pyplot as plt\n",
    "\n",
    "## RBF SVR\n",
    "\n",
    "SVR_objDF = d_train\n",
    "SVR_objDF[\"GPA Prediction\"] = SVR_obj.predict(x_train.as_matrix())\n",
    "SVR_objDF[\"Actual\"] = y_train.as_matrix()\n",
    "SVR_objDF[\"Residual\"] = SVR_objDF.apply(lambda row: row[\"GPA Prediction\"]-row[\"Actual\"],axis=1)\n",
    "SVR_objDF.plot(x=\"GPA_past\",y=\"Residual\",kind=\"scatter\")\n",
    "plt.title(\"RBF SVR - In Sample Residual Plot\")\n",
    "\n",
    "SVR_objDF = d_test\n",
    "SVR_objDF[\"GPA Prediction\"] = SVR_obj.predict(x_test.as_matrix())\n",
    "SVR_objDF[\"Actual\"] = y_test.as_matrix()\n",
    "SVR_objDF[\"Residual\"] = SVR_objDF.apply(lambda row: row[\"GPA Prediction\"]-row[\"Actual\"],axis=1)\n",
    "SVR_objDF.plot(x=\"GPA_past\",y=\"Residual\",kind=\"scatter\")\n",
    "plt.title(\"RBF SVR - Out of Sample Residual Plot\")\n",
    "\n",
    "\n",
    "## Linear SVR \n",
    "\n",
    "SVR_linearDF = d_train\n",
    "SVR_linearDF[\"GPA Prediction\"] = SVR_linear.predict(x_train.as_matrix())\n",
    "SVR_linearDF[\"Actual\"] = y_train.as_matrix()\n",
    "SVR_linearDF[\"Residual\"] = SVR_linearDF.apply(lambda row: row[\"GPA Prediction\"]-row[\"Actual\"],axis=1)\n",
    "SVR_linearDF.plot(x=\"GPA_past\",y=\"Residual\",kind=\"scatter\")\n",
    "plt.title(\"Linear SVR - In Sample Residual Plot\")\n",
    "\n",
    "SVR_linearDF = d_test\n",
    "SVR_linearDF[\"GPA Prediction\"] = SVR_linear.predict(x_test.as_matrix())\n",
    "SVR_linearDF[\"Actual\"] = y_test.as_matrix()\n",
    "SVR_linearDF[\"Residual\"] = SVR_linearDF.apply(lambda row: row[\"GPA Prediction\"]-row[\"Actual\"],axis=1)\n",
    "SVR_linearDF.plot(x=\"GPA_past\",y=\"Residual\",kind=\"scatter\")\n",
    "plt.title(\"Linear SVR - Out of Sample Residual Plot\")\n",
    "\n",
    "## Linear Regression\n",
    "\n",
    "LinRegDF = d_train\n",
    "LinRegDF[\"GPA Prediction\"] = LinReg.predict(x_train.as_matrix())\n",
    "LinRegDF[\"Actual\"] = y_train.as_matrix()\n",
    "LinRegDF[\"Residual\"] = LinRegDF.apply(lambda row: row[\"GPA Prediction\"]-row[\"Actual\"],axis=1)\n",
    "LinRegDF.plot(x=\"GPA_past\",y=\"Residual\",kind=\"scatter\")\n",
    "plt.title(\"Linear Regression - In Sample Residual Plot\")\n",
    "\n",
    "LinRegDF = d_test\n",
    "LinRegDF[\"GPA Prediction\"] = LinReg.predict(x_test.as_matrix())\n",
    "LinRegDF[\"Actual\"] = y_test.as_matrix()\n",
    "LinRegDF[\"Residual\"] = LinRegDF.apply(lambda row: row[\"GPA Prediction\"]-row[\"Actual\"],axis=1)\n",
    "LinRegDF.plot(x=\"GPA_past\",y=\"Residual\",kind=\"scatter\")\n",
    "plt.title(\"Linear Regression - Out of Sample Residual Plot\")"
   ]
  },
  {
   "cell_type": "markdown",
   "metadata": {},
   "source": [
    "As shown, the RBF kernel for SVR has a lower tolerance for outliers in training when compared to the linear kernel and linear regression."
   ]
  },
  {
   "cell_type": "markdown",
   "metadata": {},
   "source": [
    "# Question 4: Bayesian Networks (10 pts)\n",
    "#### Part (a) (5 points)\n",
    "Consider the following Bayesian network of binary (True/False) variables.\n",
    "\n",
    "<img src=\"hw4q4pic1.png\">\n",
    "\n",
    "This is equivalent to saying that X and Y are conditionally independent given C, or P(X,Y|C) = P(X|C)P(Y|C). This happens to be the assumption used by the Naive Bayes classifier.\n",
    "\n",
    "The exact probabilities are given:  \n",
    "P(X = True | C = True) = .75  \n",
    "P(X = True | C = False) = .5  \n",
    "P(Y = True | C = True) = .25  \n",
    "P(Y = True | C = False) = .5  \n",
    "P(C = True) = .5\n",
    "\n",
    "Find P(C = True | X = True, Y = True). The easiest method is to use Bayes rule, along with the conditional independence equation given above."
   ]
  },
  {
   "cell_type": "markdown",
   "metadata": {},
   "source": [
    "$$ P(C \\space | \\space X,Y) = \\frac{P(X,Y\\space  | \\space C)P(C)}{P(X,Y)} $$\n",
    "\n",
    "$$ P(X,Y\\space  | \\space C) = P(X\\space  | \\space C)P(Y\\space  | \\space C) $$\n",
    "\n",
    "$$ P(C \\space | \\space X,Y) = \\frac{P(X\\space  | \\space C)P(Y\\space  | \\space C)P(C)}{P(X,Y)} = \\frac{P(X\\space  | \\space C)P(Y\\space  | \\space C)P(C)}{P(X,Y|C)+P(X,Y| \\space not \\space C)} = \\frac{P(X\\space  | \\space C)P(Y\\space  | \\space C)P(C)}{P(X|C)P(Y|C)+P(X|\\space not \\space C)P(Y| \\space not \\space C)} $$\n",
    "\n"
   ]
  },
  {
   "cell_type": "code",
   "execution_count": 90,
   "metadata": {
    "collapsed": false
   },
   "outputs": [
    {
     "name": "stdout",
     "output_type": "stream",
     "text": [
      "P(C|X,Y) =  0.214285714286\n"
     ]
    }
   ],
   "source": [
    "numer = 0.75*0.25*0.5\n",
    "denom = (0.75*0.25)+(0.5*0.5)\n",
    "print \"P(C|X,Y) = \", (numer/denom)"
   ]
  },
  {
   "cell_type": "markdown",
   "metadata": {},
   "source": [
    "$$ P(X \\space | \\space C) = \\frac{P(C \\space | \\space X)P(X)}{P(C)}$$\n",
    "\n",
    "$$ P(Y \\space | \\space C) = \\frac{P(C \\space | \\space Y)P(Y)}{P(C)}$$\n",
    "\n",
    "$$ P(C \\space | \\space X,Y) = \\frac{\\frac{P(C \\space | \\space X)P(X)}{P(C)}\\frac{P(C \\space | \\space Y)P(Y)}{P(C)}P(C)}{P(X,Y)} = \\frac{P(C \\space | \\space X)P(C \\space | \\space Y)P(X)P(Y)}{P(C)P(X,Y)} = \\frac{P(C \\space | \\space X)P(C \\space | \\space Y)P(X,Y)}{P(C)P(X,Y)} = \\frac{P(C \\space | \\space X)P(C \\space | \\space Y)}{P(C)}$$\n",
    "\n",
    "$$ P(C \\space | \\space X) = \\frac{P(X \\space | \\space C)P(C)}{P(X)}$$\n",
    "\n",
    "$$ P(Y \\space | \\space C) = \\frac{P(C \\space | \\space Y)P(Y)}{P(C)}$$\n",
    "\n",
    "$$ P(C \\space | \\space X,Y) = \\frac{P(C \\space | \\space X)P(C \\space | \\space Y)P(X)P(Y)}{P(C)P(X,Y)}$$"
   ]
  },
  {
   "cell_type": "markdown",
   "metadata": {},
   "source": [
    "#### (b) (5 points)\n",
    "A new feature Z is added, and based on prior knowledge, we believe that one of the two networks given below properly captures the dependencies among the variables. Our goal is to determine P(C|X,Y,Z). For each of these two different networks:\n",
    "\n",
    "<img src=\"hw4q4pic2.png\">\n",
    "\n",
    "will P(C|X,Y,Z) be the same as P(C|X,Y) (the inference from part a)? Or will it be different? Give a separate answer for each network."
   ]
  },
  {
   "cell_type": "markdown",
   "metadata": {},
   "source": [
    "### First Network:"
   ]
  },
  {
   "cell_type": "markdown",
   "metadata": {},
   "source": [
    "$$ P(C \\space | \\space X,Y,Z) = \\frac{P(X,Y,Z\\space  | \\space C)P(C)}{P(X,Y,Z)} $$\n",
    "\n",
    "$$ P(Z \\space | \\space C) = P(Z \\space | \\space X, \\space C) + P(Z \\space | \\space Y, \\space C) + P(Z \\space | \\space not \\space Y, \\space C) + P(Z \\space | \\space not \\space X, \\space C) $$\n",
    "\n",
    "$$ P(X,Y,Z\\space  | \\space C) = P(X\\space  | \\space C)P(Y\\space  | \\space C) P(Z\\space  | \\space C) = P(X\\space  | \\space C)P(Y\\space  | \\space C) \\Big( P(Z \\space | \\space X, \\space C) + P(Z \\space | \\space Y, \\space C) + P(Z \\space | \\space not \\space Y, \\space C) + P(Z \\space | \\space not \\space X, \\space C) \\Big)$$\n",
    "\n",
    "$$ P(C \\space | \\space X,Y,Z) = \\frac{P(X,Y,Z\\space  | \\space C)P(C)}{P(X,Y,Z)} = $$\n",
    "\n",
    "$$ = \\frac{P(X\\space  | \\space C)P(Y\\space  | \\space C) \\Big( P(Z \\space | \\space X, \\space C) + P(Z \\space | \\space Y, \\space C) + P(Z \\space | \\space not \\space Y, \\space C) + P(Z \\space | \\space not \\space X, \\space C) \\Big)P(C)    }{    P(X\\space  | \\space  C)P(Y\\space  | \\space C) \\Big( P(Z \\space | \\space X, \\space C) + P(Z \\space | \\space Y, \\space C) + P(Z \\space | \\space not \\space Y, \\space C) + P(Z \\space | \\space not \\space X, \\space C) \\Big) + P(X\\space  | \\space not \\space C)P(Y\\space  | \\space not \\space C) \\Big( P(Z \\space | \\space X, \\space not \\space C) + P(Z \\space | \\space Y, \\space not \\space C) + P(Z \\space | \\space not \\space Y, \\space not \\space C) + P(Z \\space | \\space not \\space X, \\space not \\space C) \\Big) }$$"
   ]
  },
  {
   "cell_type": "markdown",
   "metadata": {},
   "source": [
    "As shown, P(C|X,Y,Z) $\\neq$ P(C|X,Y) from part a."
   ]
  },
  {
   "cell_type": "markdown",
   "metadata": {},
   "source": [
    "### Second Network:"
   ]
  },
  {
   "cell_type": "markdown",
   "metadata": {},
   "source": [
    "$$ P(C \\space | \\space X,Y,Z) = \\frac{P(X,Y,Z\\space  | \\space C)P(C)}{P(X,Y,Z)} $$"
   ]
  },
  {
   "cell_type": "markdown",
   "metadata": {},
   "source": [
    "$$ P(C \\space | \\space X,Y,Z) = \\frac{P(X|C)P(Z|X)P(Y|Z,C)P(C)}{P(X|C)P(Z|X)P(Y|Z,C) + P(X|\\space not \\space  C)P(Z|X)P(Y|Z,\\space not \\space C)} $$"
   ]
  },
  {
   "cell_type": "markdown",
   "metadata": {},
   "source": [
    "As shown, P(C|X,Y,Z) $\\neq$ P(C|X,Y) from part a."
   ]
  },
  {
   "cell_type": "markdown",
   "metadata": {},
   "source": [
    "# Question 5: Mulitclass Classification (5 points)\n",
    "\n",
    "One way of using a binary classifier for addressing a multiclass classification problem is to use a One-vs.-All (or One-vs.-Rest)  strategy.\n",
    "\n",
    "$\\textbf{1 :}$ Briefly describe the  One-vs.-All method.  (2pts)\n",
    "\n",
    "$\\textbf{2 :}$ What are two disadvantages of using the One-vs.-All method in situations where the number of classes $N$ is very large? (3pts)"
   ]
  },
  {
   "cell_type": "markdown",
   "metadata": {},
   "source": [
    "$\\textbf{1:}$\n",
    "\n",
    "In a multiclass classification problem, the One-vs-All method trains a classification model separately on each class, treating the class in question as positive and all the others as negative. The classification model must also provide a confidence interval for the classification. For each set of inputs, whichever classification model provides a positive prediction is the end resulting prediction. If multiple models are positive for a single input, whichever one has the highest confidence score is the end classification."
   ]
  },
  {
   "cell_type": "markdown",
   "metadata": {},
   "source": [
    "$\\textbf{2:}$\n",
    "\n",
    "When the number of classes is very large, for each classification model the ratio of negative to positive outcomes approaches zero. This makes training a difficulty as each model is severely weighted towards providing a negative prediction. For any single input it is more likely that no model provides a positive output, and it is more likely that the confidence scores for the models are nearly equal. It follows that the line in the sand determining which model is correct becomes thin, which in turn makes noise a greater factor in determining which model produces the higher confidence score, leading to a greater number of misclassifications."
   ]
  }
 ],
 "metadata": {
  "kernelspec": {
   "display_name": "Python 2",
   "language": "python",
   "name": "python2"
  },
  "language_info": {
   "codemirror_mode": {
    "name": "ipython",
    "version": 2
   },
   "file_extension": ".py",
   "mimetype": "text/x-python",
   "name": "python",
   "nbconvert_exporter": "python",
   "pygments_lexer": "ipython2",
   "version": "2.7.12"
  }
 },
 "nbformat": 4,
 "nbformat_minor": 0
}
