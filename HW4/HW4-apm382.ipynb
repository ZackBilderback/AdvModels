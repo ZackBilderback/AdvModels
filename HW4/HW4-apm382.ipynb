{
 "cells": [
  {
   "cell_type": "markdown",
   "metadata": {},
   "source": [
    "# <p style=\"text-align: center;\">MIS 382N: Advanced Predictive Modeling</p>\n",
    "# <p style=\"text-align: center;\">Assignment 4</p>\n",
    "## <p style=\"text-align: center;\">Total points: 50 </p>\n",
    "## <p style=\"text-align: center;\">Due: Mon, November 14</p>\n",
    "\n",
    "\n",
    "\n",
    "Your homework should be written in a **Jupyter notebook**. Please submit **only one** ipynb file from each group, and include the names of all the group members. Also, please make sure your code runs and the graphics (and anything else) are displayed in your notebook before submitting."
   ]
  },
  {
   "cell_type": "markdown",
   "metadata": {},
   "source": [
    "# Problem 1 - MNIST (15 pts)\n",
    "In this question you classify hand-written digits. We want to use MNIST data set and try Multi-layer Perceptron (MLP) classifier using sklearn package in Python. In order to simplify the problem, we classify digits into 8 classes (digits 0,1,2,...7) and ignore records for digits 8 and 9.  Use the code below to access the data set and extract data with labels 0 to 7, and split the data set into train set and test set.\n",
    "\n",
    "1. Fit a Multilayer Perceptron Classifier using the standard options on sklearn's MLP on train data. Report the root MSE for both train and test data. (5 pts)\n",
    "\n",
    "    Use these parameters for your model: \n",
    "                    {hidden_layer_sizes=(50,), max_iter=10, alpha=1e-4,\n",
    "                    solver='sgd', verbose=10, tol=1e-4, random_state=42,\n",
    "                    learning_rate_init=.1}\n",
    "                    \n",
    "2. To find better parameters for the MLP Classifier model, try an exhaustive search over all parameters of the data. Use sklearn's GridSearchCV to find the best subset of parameters from the set:\n",
    "                    { alpha = [0.1,0.01,0.001], activation : ['logistic', 'relu'] }\n",
    "    which parameters resulted in a more accurate model? Can you explain why? (5 pts)\n",
    "\n",
    "3. Select 5 misclassified images and display them. (5 pts)"
   ]
  },
  {
   "cell_type": "code",
   "execution_count": 1,
   "metadata": {
    "collapsed": true
   },
   "outputs": [],
   "source": [
    "import matplotlib.pyplot as plt\n",
    "from sklearn.datasets import fetch_mldata\n",
    "from sklearn.model_selection import (train_test_split,KFold)\n",
    "from sklearn.neural_network import MLPClassifier\n",
    "\n",
    "mnist = fetch_mldata(\"MNIST original\")\n",
    "# rescale the data, use the traditional train/test split\n",
    "X = (mnist.data / 255.)[:48200]\n",
    "y = mnist.target[:48200]\n",
    "\n",
    "X_train, X_test, y_train, y_test = train_test_split(X,y,test_size = 0.1, random_state=42)"
   ]
  },
  {
   "cell_type": "markdown",
   "metadata": {},
   "source": [
    "## Part 1"
   ]
  },
  {
   "cell_type": "code",
   "execution_count": 2,
   "metadata": {
    "collapsed": false
   },
   "outputs": [],
   "source": [
    "import pandas as pd\n",
    "import numpy as np\n",
    "from sklearn.metrics import mean_squared_error\n",
    "from sklearn.preprocessing import StandardScaler\n",
    "from sklearn.metrics import fbeta_score, make_scorer\n",
    "import matplotlib.pyplot as plt\n",
    "%matplotlib inline\n",
    "\n",
    "#first we scale our x variables\n",
    "X_scaler = StandardScaler()\n",
    "X_train = X_scaler.fit_transform(X_train)\n",
    "X_test = X_scaler.transform(X_test)\n",
    "MLP = MLPClassifier(hidden_layer_sizes=(50,), max_iter=10, alpha=1e-4, solver='sgd', \n",
    "                    verbose=10, tol=1e-4, random_state=42, learning_rate_init=.1)\n",
    "mse = make_scorer(mean_squared_error)"
   ]
  },
  {
   "cell_type": "code",
   "execution_count": 3,
   "metadata": {
    "collapsed": false
   },
   "outputs": [
    {
     "name": "stdout",
     "output_type": "stream",
     "text": [
      "Iteration 1, loss = 0.22278030\n",
      "Iteration 2, loss = 0.13945856\n",
      "Iteration 3, loss = 0.09964869\n",
      "Iteration 4, loss = 0.08568452\n",
      "Iteration 5, loss = 0.06914200\n",
      "Iteration 6, loss = 0.05917721\n",
      "Iteration 7, loss = 0.05847170\n",
      "Iteration 8, loss = 0.04573220\n",
      "Iteration 9, loss = 0.04211366\n",
      "Iteration 10, loss = 0.03337099\n",
      "RMSE on training data: 0.3057765662\n"
     ]
    },
    {
     "name": "stderr",
     "output_type": "stream",
     "text": [
      "C:\\Users\\zack_\\Anaconda2\\lib\\site-packages\\sklearn\\neural_network\\multilayer_perceptron.py:563: ConvergenceWarning: Stochastic Optimizer: Maximum iterations reached and the optimization hasn't converged yet.\n",
      "  % (), ConvergenceWarning)\n"
     ]
    },
    {
     "name": "stdout",
     "output_type": "stream",
     "text": [
      "Iteration 1, loss = 0.22278030\n",
      "Iteration 2, loss = 0.13945856\n",
      "Iteration 3, loss = 0.09964869\n",
      "Iteration 4, loss = 0.08568452\n",
      "Iteration 5, loss = 0.06914200\n",
      "Iteration 6, loss = 0.05917721\n",
      "Iteration 7, loss = 0.05847170\n",
      "Iteration 8, loss = 0.04573220\n",
      "Iteration 9, loss = 0.04211366\n",
      "Iteration 10, loss = 0.03337099\n",
      "RMSE on test data: 0.543349073587\n"
     ]
    }
   ],
   "source": [
    "#getting training RMSe\n",
    "trainmodel = MLP.fit(X_train, y_train)\n",
    "Ytrain_pred = trainmodel.predict(X_train)\n",
    "train_score = mean_squared_error(y_train, Ytrain_pred)\n",
    "print 'RMSE on training data:', np.sqrt(train_score)\n",
    "\n",
    "#getting testing RMSE\n",
    "testmodel = MLP.fit(X_train, y_train)\n",
    "Ytest_pred = testmodel.predict(X_test)\n",
    "test_score = mean_squared_error(y_test, Ytest_pred)\n",
    "print 'RMSE on test data:', np.sqrt(test_score)"
   ]
  },
  {
   "cell_type": "markdown",
   "metadata": {},
   "source": [
    "## Part 2"
   ]
  },
  {
   "cell_type": "code",
   "execution_count": 4,
   "metadata": {
    "collapsed": false
   },
   "outputs": [
    {
     "name": "stderr",
     "output_type": "stream",
     "text": [
      "C:\\Users\\zack_\\Anaconda2\\lib\\site-packages\\sklearn\\cross_validation.py:44: DeprecationWarning: This module was deprecated in version 0.18 in favor of the model_selection module into which all the refactored classes and functions are moved. Also note that the interface of the new CV iterators are different from that of this module. This module will be removed in 0.20.\n",
      "  \"This module will be removed in 0.20.\", DeprecationWarning)\n",
      "C:\\Users\\zack_\\Anaconda2\\lib\\site-packages\\sklearn\\grid_search.py:43: DeprecationWarning: This module was deprecated in version 0.18 in favor of the model_selection module into which all the refactored classes and functions are moved. This module will be removed in 0.20.\n",
      "  DeprecationWarning)\n"
     ]
    }
   ],
   "source": [
    "from sklearn import grid_search\n",
    "parameters = { 'alpha' : [0.1,0.01,0.001], 'activation' : ['logistic', 'relu'] }\n",
    "clf = grid_search.GridSearchCV(MLP, parameters)"
   ]
  },
  {
   "cell_type": "code",
   "execution_count": 5,
   "metadata": {
    "collapsed": false
   },
   "outputs": [
    {
     "name": "stdout",
     "output_type": "stream",
     "text": [
      "Iteration 1, loss = 0.39414805\n",
      "Iteration 2, loss = 0.18690024\n",
      "Iteration 3, loss = 0.16444825\n",
      "Iteration 4, loss = 0.15234852\n",
      "Iteration 5, loss = 0.14367744\n",
      "Iteration 6, loss = 0.13744477\n",
      "Iteration 7, loss = 0.13286077\n",
      "Iteration 8, loss = 0.12939549\n",
      "Iteration 9, loss = 0.12595149\n",
      "Iteration 10, loss = 0.12362577\n",
      "Iteration 1, loss = 0.39716252\n",
      "Iteration 2, loss = 0.18894011\n",
      "Iteration 3, loss = 0.16705155\n",
      "Iteration 4, loss = 0.15364257\n",
      "Iteration 5, loss = 0.14493847\n",
      "Iteration 6, loss = 0.13865362\n",
      "Iteration 7, loss = 0.13413443\n",
      "Iteration 8, loss = 0.13021769\n",
      "Iteration 9, loss = 0.12754604\n",
      "Iteration 10, loss = 0.12524274\n",
      "Iteration 1, loss = 0.38957297\n",
      "Iteration 2, loss = 0.18457611\n",
      "Iteration 3, loss = 0.16283999\n",
      "Iteration 4, loss = 0.14969508\n",
      "Iteration 5, loss = 0.14018918\n",
      "Iteration 6, loss = 0.13421350\n",
      "Iteration 7, loss = 0.12970408\n",
      "Iteration 8, loss = 0.12619187\n",
      "Iteration 9, loss = 0.12321463\n",
      "Iteration 10, loss = 0.12076311\n",
      "Iteration 1, loss = 0.36928324\n",
      "Iteration 2, loss = 0.15093654\n",
      "Iteration 3, loss = 0.12215728\n",
      "Iteration 4, loss = 0.10479046\n",
      "Iteration 5, loss = 0.09146685\n",
      "Iteration 6, loss = 0.08121661\n",
      "Iteration 7, loss = 0.07317124\n",
      "Iteration 8, loss = 0.06658686\n",
      "Iteration 9, loss = 0.06053411\n",
      "Iteration 10, loss = 0.05569305\n",
      "Iteration 1, loss = 0.37227302\n",
      "Iteration 2, loss = 0.15286116\n",
      "Iteration 3, loss = 0.12427390\n",
      "Iteration 4, loss = 0.10561861\n",
      "Iteration 5, loss = 0.09237862\n",
      "Iteration 6, loss = 0.08220428\n",
      "Iteration 7, loss = 0.07412075\n",
      "Iteration 8, loss = 0.06711591\n",
      "Iteration 9, loss = 0.06163189\n",
      "Iteration 10, loss = 0.05672428\n",
      "Iteration 1, loss = 0.36467098\n",
      "Iteration 2, loss = 0.14853102\n",
      "Iteration 3, loss = 0.12017992\n",
      "Iteration 4, loss = 0.10168800\n",
      "Iteration 5, loss = 0.08758529\n",
      "Iteration 6, loss = 0.07767186\n",
      "Iteration 7, loss = 0.06959156\n",
      "Iteration 8, loss = 0.06310699\n",
      "Iteration 9, loss = 0.05750286\n",
      "Iteration 10, loss = 0.05288961\n",
      "Iteration 1, loss = 0.36669708\n",
      "Iteration 2, loss = 0.14697986\n",
      "Iteration 3, loss = 0.11728432\n",
      "Iteration 4, loss = 0.09908093\n",
      "Iteration 5, loss = 0.08496446\n",
      "Iteration 6, loss = 0.07398269\n",
      "Iteration 7, loss = 0.06523565\n",
      "Iteration 8, loss = 0.05797593\n",
      "Iteration 9, loss = 0.05130967\n",
      "Iteration 10, loss = 0.04588351\n",
      "Iteration 1, loss = 0.36968461\n",
      "Iteration 2, loss = 0.14889302\n",
      "Iteration 3, loss = 0.11934603\n",
      "Iteration 4, loss = 0.09986035\n",
      "Iteration 5, loss = 0.08582933\n",
      "Iteration 6, loss = 0.07496274\n",
      "Iteration 7, loss = 0.06617167\n",
      "Iteration 8, loss = 0.05850672\n",
      "Iteration 9, loss = 0.05241545\n",
      "Iteration 10, loss = 0.04690101\n",
      "Iteration 1, loss = 0.36208122\n",
      "Iteration 2, loss = 0.14456842\n",
      "Iteration 3, loss = 0.11526762\n",
      "Iteration 4, loss = 0.09590996\n",
      "Iteration 5, loss = 0.08101211\n",
      "Iteration 6, loss = 0.07036581\n",
      "Iteration 7, loss = 0.06157963\n",
      "Iteration 8, loss = 0.05439637\n",
      "Iteration 9, loss = 0.04818647\n",
      "Iteration 10, loss = 0.04302112\n",
      "Iteration 1, loss = 0.28937851\n",
      "Iteration 2, loss = 0.16122994\n",
      "Iteration 3, loss = 0.12899186\n",
      "Iteration 4, loss = 0.11802834\n",
      "Iteration 5, loss = 0.10531929\n",
      "Iteration 6, loss = 0.08742922\n",
      "Iteration 7, loss = 0.08039324\n",
      "Iteration 8, loss = 0.07111500\n",
      "Iteration 9, loss = 0.06812695\n",
      "Iteration 10, loss = 0.05682520\n",
      "Iteration 1, loss = 0.28784540\n",
      "Iteration 2, loss = 0.17452566\n",
      "Iteration 3, loss = 0.13993963\n",
      "Iteration 4, loss = 0.14688657\n",
      "Iteration 5, loss = 0.12974068\n",
      "Iteration 6, loss = 0.11306360\n",
      "Iteration 7, loss = 0.09588991\n",
      "Iteration 8, loss = 0.08056033\n",
      "Iteration 9, loss = 0.08083392\n",
      "Iteration 10, loss = 0.07254912\n",
      "Iteration 1, loss = 0.27588037\n",
      "Iteration 2, loss = 0.15711159\n",
      "Iteration 3, loss = 0.13563817\n",
      "Iteration 4, loss = 0.11247910\n",
      "Iteration 5, loss = 0.10290646\n",
      "Iteration 6, loss = 0.08867445\n",
      "Iteration 7, loss = 0.07362650\n",
      "Iteration 8, loss = 0.06693608\n",
      "Iteration 9, loss = 0.05907167\n",
      "Iteration 10, loss = 0.05507908\n",
      "Iteration 1, loss = 0.25607467\n",
      "Iteration 2, loss = 0.11846139\n",
      "Iteration 3, loss = 0.08317685\n",
      "Iteration 4, loss = 0.08032873\n",
      "Iteration 5, loss = 0.05931567\n",
      "Iteration 6, loss = 0.04986583\n",
      "Iteration 7, loss = 0.03357366\n",
      "Iteration 8, loss = 0.02627609\n",
      "Iteration 9, loss = 0.02264814\n",
      "Iteration 10, loss = 0.02052974\n",
      "Iteration 1, loss = 0.25293102\n",
      "Iteration 2, loss = 0.13384083\n",
      "Iteration 3, loss = 0.12684722\n",
      "Iteration 4, loss = 0.13434953\n",
      "Iteration 5, loss = 0.09405154\n",
      "Iteration 6, loss = 0.08191392\n",
      "Iteration 7, loss = 0.07015363\n",
      "Iteration 8, loss = 0.06762224\n",
      "Iteration 9, loss = 0.04721970\n",
      "Iteration 10, loss = 0.04229074\n",
      "Iteration 1, loss = 0.24384243\n",
      "Iteration 2, loss = 0.12214765\n",
      "Iteration 3, loss = 0.10050734\n",
      "Iteration 4, loss = 0.07109401\n",
      "Iteration 5, loss = 0.06723191\n",
      "Iteration 6, loss = 0.05868684\n",
      "Iteration 7, loss = 0.04667697\n",
      "Iteration 8, loss = 0.03707430\n",
      "Iteration 9, loss = 0.03238533\n",
      "Iteration 10, loss = 0.03192828\n",
      "Iteration 1, loss = 0.25255421\n",
      "Iteration 2, loss = 0.11819568\n",
      "Iteration 3, loss = 0.08763917\n",
      "Iteration 4, loss = 0.06431600\n",
      "Iteration 5, loss = 0.04933044\n",
      "Iteration 6, loss = 0.03812718\n",
      "Iteration 7, loss = 0.03235264\n",
      "Iteration 8, loss = 0.02369324\n",
      "Iteration 9, loss = 0.01363432\n",
      "Iteration 10, loss = 0.00729483\n",
      "Iteration 1, loss = 0.24926889\n",
      "Iteration 2, loss = 0.12828826\n",
      "Iteration 3, loss = 0.13121932\n",
      "Iteration 4, loss = 0.16532293\n",
      "Iteration 5, loss = 0.12465673\n",
      "Iteration 6, loss = 0.08331649\n",
      "Iteration 7, loss = 0.06930817\n",
      "Iteration 8, loss = 0.07546735\n",
      "Iteration 9, loss = 0.07003121\n",
      "Iteration 10, loss = 0.04846719\n",
      "Iteration 1, loss = 0.24031323\n",
      "Iteration 2, loss = 0.11748553\n",
      "Iteration 3, loss = 0.09808286\n",
      "Iteration 4, loss = 0.06633545\n",
      "Iteration 5, loss = 0.05049250\n",
      "Iteration 6, loss = 0.03812954\n",
      "Iteration 7, loss = 0.02800514\n",
      "Iteration 8, loss = 0.03029467\n",
      "Iteration 9, loss = 0.02578814\n",
      "Iteration 10, loss = 0.02458253\n",
      "Iteration 1, loss = 0.26428646\n",
      "Iteration 2, loss = 0.18628626\n",
      "Iteration 3, loss = 0.15212917\n",
      "Iteration 4, loss = 0.13354154\n",
      "Iteration 5, loss = 0.12389902\n",
      "Iteration 6, loss = 0.10821480\n",
      "Iteration 7, loss = 0.10142063\n",
      "Iteration 8, loss = 0.09010754\n",
      "Iteration 9, loss = 0.08155460\n",
      "Iteration 10, loss = 0.07933508\n"
     ]
    },
    {
     "data": {
      "text/plain": [
       "GridSearchCV(cv=None, error_score='raise',\n",
       "       estimator=MLPClassifier(activation='relu', alpha=0.0001, batch_size='auto', beta_1=0.9,\n",
       "       beta_2=0.999, early_stopping=False, epsilon=1e-08,\n",
       "       hidden_layer_sizes=(50,), learning_rate='constant',\n",
       "       learning_rate_init=0.1, max_iter=10, momentum=0.9,\n",
       "       nesterovs_momentum=True, power_t=0.5, random_state=42, shuffle=True,\n",
       "       solver='sgd', tol=0.0001, validation_fraction=0.1, verbose=10,\n",
       "       warm_start=False),\n",
       "       fit_params={}, iid=True, n_jobs=1,\n",
       "       param_grid={'alpha': [0.1, 0.01, 0.001], 'activation': ['logistic', 'relu']},\n",
       "       pre_dispatch='2*n_jobs', refit=True, scoring=None, verbose=0)"
      ]
     },
     "execution_count": 5,
     "metadata": {},
     "output_type": "execute_result"
    }
   ],
   "source": [
    "clf.fit(X_train, y_train)"
   ]
  },
  {
   "cell_type": "code",
   "execution_count": 7,
   "metadata": {
    "collapsed": false
   },
   "outputs": [
    {
     "name": "stdout",
     "output_type": "stream",
     "text": [
      "Best parameters:{'alpha': 0.1, 'activation': 'relu'}\n",
      "Best score:0.974412171508\n"
     ]
    }
   ],
   "source": [
    "print \"{}:{}\".format(\"Best parameters\", clf.best_params_)\n",
    "print \"{}{}\".format(\"Best score:\",clf.best_score_)"
   ]
  },
  {
   "cell_type": "markdown",
   "metadata": {
    "collapsed": true
   },
   "source": [
    "The best parameters are (activation='relu', alpha=0.1). They actually performed worse than the initial settings which seems a bit confusing but the 'relu' activation function performs better because it reduces the likelihood of the gradient to vanish and it represents hidden units sparsely. Logistic regression on the other hand tends to make the gradient vanish as the absolute values of x increases. Also, sigmoids are always likely to generate some non-zero value resulting in dense representations for the hidden units. "
   ]
  },
  {
   "cell_type": "markdown",
   "metadata": {},
   "source": [
    "## Part 3"
   ]
  },
  {
   "cell_type": "code",
   "execution_count": 12,
   "metadata": {
    "collapsed": false
   },
   "outputs": [
    {
     "name": "stdout",
     "output_type": "stream",
     "text": [
      "Iteration 1, loss = 0.22278030\n",
      "Iteration 2, loss = 0.13945856\n",
      "Iteration 3, loss = 0.09964869\n",
      "Iteration 4, loss = 0.08568452\n",
      "Iteration 5, loss = 0.06914200\n",
      "Iteration 6, loss = 0.05917721\n",
      "Iteration 7, loss = 0.05847170\n",
      "Iteration 8, loss = 0.04573220\n",
      "Iteration 9, loss = 0.04211366\n",
      "Iteration 10, loss = 0.03337099\n",
      "Sample Missclassifications:\n"
     ]
    },
    {
     "data": {
      "image/png": "[encoded data removed]",
      "text/plain": [
       "<matplotlib.figure.Figure at 0x13606668>"
      ]
     },
     "metadata": {},
     "output_type": "display_data"
    }
   ],
   "source": [
    "MLP = MLPClassifier(hidden_layer_sizes=(50,), max_iter=10, alpha=1e-4, solver='sgd', \n",
    "                    verbose=10, tol=1e-4, random_state=42, learning_rate_init=.1)\n",
    "\n",
    "testmodel = MLP.fit(X_train, y_train)\n",
    "Ytest_pred = testmodel.predict(X_test)\n",
    "\n",
    "misclass_idx = np.where(y_test != Ytest_pred)\n",
    "\n",
    "misclass_act = y_test[misclass_idx]\n",
    "misclass_pred = Ytest_pred[misclass_idx]\n",
    "misclass_img = X_test[misclass_idx]*255\n",
    "misclass_img = misclass_img.astype(int)\n",
    "\n",
    "misclass_list = zip(misclass_act,misclass_pred,misclass_img)\n",
    "\n",
    "print \"Sample Missclassifications:\"\n",
    "for index, missclass in enumerate(misclass_list[:5]):\n",
    "    plt.subplot(3, 3, index+1)\n",
    "    plt.axis('off')\n",
    "    plt.imshow(missclass[2].reshape((28,28)), cmap=plt.cm.gray_r, interpolation='nearest')\n",
    "    plt.title('Act: %i | Pred: %i' % (missclass[0], missclass[1]))\n",
    "    \n",
    "plt.show()"
   ]
  },
  {
   "cell_type": "markdown",
   "metadata": {
    "collapsed": true
   },
   "source": [
    "# Question 2: Regression Trees (10 points)\n",
    "\n",
    "In this question, we will be exploring the application of regression tree (RT) using sklearn package in Python. You will be using the same Hitters.csv dataset (available on Canvas) used in HW2 Q5 to predict a baseball player’s Salary using all the 16 performance variables. Use a random state of 42 and a test size of 1/3 to split the data into training and test.\n",
    "\n",
    "1. Build a regression using [DecisionTreeRegressor](http://scikit-learn.org/stable/modules/generated/sklearn.tree.DecisionTreeRegressor.html) with max_depth = 5. Report the mean squared errors on both training and test datasets. (4)\n",
    "2. Repeat Part-1 with max_depth = 2. (4)\n",
    "3. Briefly explain what you observe from these MSE values obtained by using maximum tree depths 5 and 2? Which tree is better and why? (2)"
   ]
  },
  {
   "cell_type": "code",
   "execution_count": 13,
   "metadata": {
    "collapsed": false
   },
   "outputs": [],
   "source": [
    "import numpy as np\n",
    "import pandas as pd\n",
    "import sklearn\n",
    "from sklearn.cross_validation import train_test_split\n",
    "from sklearn.tree import DecisionTreeRegressor\n",
    "from sklearn.metrics import mean_squared_error"
   ]
  },
  {
   "cell_type": "code",
   "execution_count": 14,
   "metadata": {
    "collapsed": true
   },
   "outputs": [],
   "source": [
    "hitters = pd.read_csv(\"hitters.csv\")\n",
    "target = hitters['Salary']\n",
    "del hitters['Salary']\n",
    "X_train, X_test, y_train, y_test = train_test_split(hitters, target, test_size=0.333, random_state=42)"
   ]
  },
  {
   "cell_type": "markdown",
   "metadata": {},
   "source": [
    "### Part 1"
   ]
  },
  {
   "cell_type": "code",
   "execution_count": 15,
   "metadata": {
    "collapsed": false
   },
   "outputs": [],
   "source": [
    "DTR = DecisionTreeRegressor(max_depth=5)\n",
    "model = DTR.fit(X_train, y_train)"
   ]
  },
  {
   "cell_type": "code",
   "execution_count": 16,
   "metadata": {
    "collapsed": false
   },
   "outputs": [
    {
     "name": "stdout",
     "output_type": "stream",
     "text": [
      "Training data MSE: 18749.4789728\n",
      "Test data MSE: 211972.033541\n"
     ]
    }
   ],
   "source": [
    "#training data\n",
    "Ytrain_pred = model.predict(X_train)\n",
    "train_MSE = mean_squared_error(y_train, Ytrain_pred)\n",
    "print \"Training data MSE:\", train_MSE\n",
    "\n",
    "#test data\n",
    "Ypred_test = model.predict(X_test)\n",
    "test_MSE = mean_squared_error(y_test, Ypred_test)\n",
    "print \"Test data MSE:\", test_MSE"
   ]
  },
  {
   "cell_type": "markdown",
   "metadata": {},
   "source": [
    "### Part 2"
   ]
  },
  {
   "cell_type": "code",
   "execution_count": 17,
   "metadata": {
    "collapsed": true
   },
   "outputs": [],
   "source": [
    "DTR = DecisionTreeRegressor(max_depth=2)\n",
    "model = DTR.fit(X_train, y_train)"
   ]
  },
  {
   "cell_type": "code",
   "execution_count": 18,
   "metadata": {
    "collapsed": false
   },
   "outputs": [
    {
     "name": "stdout",
     "output_type": "stream",
     "text": [
      "Training data MSE: 69909.5877084\n",
      "Test data MSE: 166165.705731\n"
     ]
    }
   ],
   "source": [
    "#training data\n",
    "Ytrain_pred = model.predict(X_train)\n",
    "train_MSE = mean_squared_error(y_train, Ytrain_pred)\n",
    "print \"Training data MSE:\", train_MSE\n",
    "\n",
    "#test data\n",
    "Ypred_test = model.predict(X_test)\n",
    "test_MSE = mean_squared_error(y_test, Ypred_test)\n",
    "print \"Test data MSE:\", test_MSE"
   ]
  },
  {
   "cell_type": "markdown",
   "metadata": {},
   "source": [
    "### Part 3"
   ]
  },
  {
   "cell_type": "markdown",
   "metadata": {},
   "source": [
    "The decision tree with max depth of 5 performs better in-sample which makes us think that it is overfitting the data because it then performs poorly on the test data. The decision tree with max depth of 2 is better for the test data because it keeps the splits simple and does not over fit. "
   ]
  },
  {
   "cell_type": "markdown",
   "metadata": {
    "collapsed": true
   },
   "source": [
    "# Question 3 - Support Vector Regression vs. Linear Regression (10pts)\n",
    "Download datasets 'summer_gpa_test.csv' and 'summer_gpa_train.csv' from Canvas. With this toy dataset, we want to predict GPA in Summer 2016 for students using 5 different features. So, target variable will be 'GPA_summer2016' in this problem.\n",
    "\n",
    "1. Fit a support vector regression using the default options on [sklearn's SVR](http://scikit-learn.org/stable/modules/generated/sklearn.svm.SVR.html) on training data. Note that the default kernel is \"rbf\".  Report the root MSE for both train and test data. (2)\n",
    "\n",
    "2. Fit SVR with 'linear' kernel and Linear Regression (for other options, use default parameter settings). Report RMSE of prediction on train and test data for the two methods. (3)\n",
    "\n",
    "3. Now, compare the results of three different methods, then provide a possible reason for SVR with RBF kernel not working well on test set. (1)\n",
    "\n",
    "4.  Provide simple residual plots on Train and Test set for all three methods. Specifically, submit a scatter plot wherein y-axis shows the residuals and x-axis the predicted values. What can you learn about the effect of outliers on different models from this problem? (4)"
   ]
  },
  {
   "cell_type": "code",
   "execution_count": 2,
   "metadata": {
    "collapsed": true
   },
   "outputs": [],
   "source": [
    "import pandas as pd\n",
    "import numpy as np\n",
    "from sklearn.svm import SVR\n",
    "from sklearn.metrics import mean_squared_error\n",
    "from sklearn.linear_model import LinearRegression\n",
    "\n",
    "d_train = pd.read_csv('summer_gpa_train.csv',index_col='student')\n",
    "d_test = pd.read_csv('summer_gpa_test.csv',index_col='student')\n",
    "\n",
    "y_train = d_train['GPA_summer2016']\n",
    "y_test = d_test['GPA_summer2016']\n",
    "x_train = d_train.drop('GPA_summer2016',axis=1)\n",
    "x_test = d_test.drop('GPA_summer2016',axis=1)"
   ]
  },
  {
   "cell_type": "markdown",
   "metadata": {},
   "source": [
    "# Question 4: Bayesian Networks (10 pts)\n",
    "#### Part (a) (5 points)\n",
    "Consider the following Bayesian network of binary (True/False) variables.\n",
    "\n",
    "<img src=\"hw4q4pic1.png\">\n",
    "\n",
    "This is equivalent to saying that X and Y are conditionally independent given C, or P(X,Y|C) = P(X|C)P(Y|C). This happens to be the assumption used by the Naive Bayes classifier.\n",
    "\n",
    "The exact probabilities are given:  \n",
    "P(X = True | C = True) = .75  \n",
    "P(X = True | C = False) = .5  \n",
    "P(Y = True | C = True) = .25  \n",
    "P(Y = True | C = False) = .5  \n",
    "P(C = True) = .5\n",
    "\n",
    "Find P(C = True | X = True, Y = True). The easiest method is to use Bayes rule, along with the conditional independence equation given above.\n",
    "\n",
    "#### (b) (5 points)\n",
    "A new feature Z is added, and based on prior knowledge, we believe that one of the two networks given below properly captures the dependencies among the variables. Our goal is to determine P(C|X,Y,Z). For each of these two different networks:\n",
    "\n",
    "<img src=\"hw4q4pic2.png\">\n",
    "\n",
    "will P(C|X,Y,Z) be the same as P(C|X,Y) (the inference from part a)? Or will it be different? Give a separate answer for each network."
   ]
  },
  {
   "cell_type": "markdown",
   "metadata": {},
   "source": [
    "# Question 5: Mulitclass Classification (5 points)\n",
    "\n",
    "One way of using a binary classifier for addressing a multiclass classification problem is to use a One-vs.-All (or One-vs.-Rest)  strategy.\n",
    "\n",
    "1. Briefly describe the  One-vs.-All method.  (2pts)\n",
    "\n",
    "2. What are two disadvantages of using the One-vs.-All method in situations where the number of classes $N$ is very large? (3pts)"
   ]
  }
 ],
 "metadata": {
  "kernelspec": {
   "display_name": "Python 2",
   "language": "python",
   "name": "python2"
  },
  "language_info": {
   "codemirror_mode": {
    "name": "ipython",
    "version": 2
   },
   "file_extension": ".py",
   "mimetype": "text/x-python",
   "name": "python",
   "nbconvert_exporter": "python",
   "pygments_lexer": "ipython2",
   "version": "2.7.12"
  }
 },
 "nbformat": 4,
 "nbformat_minor": 0
}
